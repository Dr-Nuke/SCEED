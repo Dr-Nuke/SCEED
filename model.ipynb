{
 "cells": [
  {
   "cell_type": "code",
   "execution_count": 17,
   "metadata": {},
   "outputs": [],
   "source": [
    "import pandas as pd\n",
    "import numpy as np\n",
    "import matplotlib.pyplot as plt\n",
    "from mpl_toolkits.mplot3d import Axes3D\n",
    "from sklearn.preprocessing import OneHotEncoder\n",
    "from sklearn import preprocessing\n",
    "from sklearn.cluster import KMeans\n",
    "import math as m\n",
    "import csv"
   ]
  },
  {
   "cell_type": "code",
   "execution_count": 105,
   "metadata": {},
   "outputs": [
    {
     "data": {
      "text/plain": [
       "17141"
      ]
     },
     "execution_count": 105,
     "metadata": {},
     "output_type": "execute_result"
    }
   ],
   "source": [
    "# load suspects list:\n",
    "df_suspects = pd.read_csv('downloads/jeopardy.csv')\n",
    "df_suspects = df_suspects[df_suspects.suspicious == 1].cif.values.tolist()\n",
    "len(df_suspects)"
   ]
  },
  {
   "cell_type": "code",
   "execution_count": 2,
   "metadata": {},
   "outputs": [],
   "source": [
    "# load data\n",
    "df = pd.read_csv('downloads/large.csv')"
   ]
  },
  {
   "cell_type": "code",
   "execution_count": 3,
   "metadata": {},
   "outputs": [
    {
     "data": {
      "text/html": [
       "<div>\n",
       "<style scoped>\n",
       "    .dataframe tbody tr th:only-of-type {\n",
       "        vertical-align: middle;\n",
       "    }\n",
       "\n",
       "    .dataframe tbody tr th {\n",
       "        vertical-align: top;\n",
       "    }\n",
       "\n",
       "    .dataframe thead th {\n",
       "        text-align: right;\n",
       "    }\n",
       "</style>\n",
       "<table border=\"1\" class=\"dataframe\">\n",
       "  <thead>\n",
       "    <tr style=\"text-align: right;\">\n",
       "      <th></th>\n",
       "      <th>cif</th>\n",
       "      <th>category</th>\n",
       "      <th>turnover</th>\n",
       "      <th>transaction_count</th>\n",
       "      <th>io_ratio</th>\n",
       "      <th>age</th>\n",
       "      <th>nationality</th>\n",
       "      <th>is_pep</th>\n",
       "      <th>inactive_days_average</th>\n",
       "      <th>inactive_days_max</th>\n",
       "      <th>n_of_accounts</th>\n",
       "      <th>distinct_counterparties</th>\n",
       "      <th>channel_risk</th>\n",
       "      <th>atm_withdrawal</th>\n",
       "      <th>atm_deposit</th>\n",
       "    </tr>\n",
       "  </thead>\n",
       "  <tbody>\n",
       "    <tr>\n",
       "      <td>0</td>\n",
       "      <td>90000000</td>\n",
       "      <td>0</td>\n",
       "      <td>217673.05</td>\n",
       "      <td>125</td>\n",
       "      <td>0.304000</td>\n",
       "      <td>40</td>\n",
       "      <td>123</td>\n",
       "      <td>0</td>\n",
       "      <td>1.66</td>\n",
       "      <td>88</td>\n",
       "      <td>1</td>\n",
       "      <td>3</td>\n",
       "      <td>0.254742</td>\n",
       "      <td>1937.15</td>\n",
       "      <td>2161.790028</td>\n",
       "    </tr>\n",
       "    <tr>\n",
       "      <td>1</td>\n",
       "      <td>90000001</td>\n",
       "      <td>0</td>\n",
       "      <td>57.42</td>\n",
       "      <td>20</td>\n",
       "      <td>0.250000</td>\n",
       "      <td>17</td>\n",
       "      <td>90</td>\n",
       "      <td>0</td>\n",
       "      <td>7.32</td>\n",
       "      <td>88</td>\n",
       "      <td>4</td>\n",
       "      <td>6</td>\n",
       "      <td>0.393174</td>\n",
       "      <td>4.96</td>\n",
       "      <td>0.893866</td>\n",
       "    </tr>\n",
       "    <tr>\n",
       "      <td>2</td>\n",
       "      <td>90000002</td>\n",
       "      <td>0</td>\n",
       "      <td>1465076.90</td>\n",
       "      <td>1</td>\n",
       "      <td>0.000000</td>\n",
       "      <td>66</td>\n",
       "      <td>123</td>\n",
       "      <td>0</td>\n",
       "      <td>24.08</td>\n",
       "      <td>25</td>\n",
       "      <td>2</td>\n",
       "      <td>1</td>\n",
       "      <td>0.422991</td>\n",
       "      <td>0.00</td>\n",
       "      <td>229.333494</td>\n",
       "    </tr>\n",
       "    <tr>\n",
       "      <td>3</td>\n",
       "      <td>90000003</td>\n",
       "      <td>0</td>\n",
       "      <td>429840.54</td>\n",
       "      <td>46</td>\n",
       "      <td>0.239130</td>\n",
       "      <td>43</td>\n",
       "      <td>90</td>\n",
       "      <td>0</td>\n",
       "      <td>3.88</td>\n",
       "      <td>86</td>\n",
       "      <td>2</td>\n",
       "      <td>17</td>\n",
       "      <td>0.296019</td>\n",
       "      <td>43123.33</td>\n",
       "      <td>3121.939606</td>\n",
       "    </tr>\n",
       "    <tr>\n",
       "      <td>4</td>\n",
       "      <td>90000004</td>\n",
       "      <td>2</td>\n",
       "      <td>93356190.65</td>\n",
       "      <td>63</td>\n",
       "      <td>0.365079</td>\n",
       "      <td>0</td>\n",
       "      <td>186</td>\n",
       "      <td>0</td>\n",
       "      <td>2.77</td>\n",
       "      <td>100</td>\n",
       "      <td>1</td>\n",
       "      <td>1</td>\n",
       "      <td>0.067511</td>\n",
       "      <td>1814340.25</td>\n",
       "      <td>603026.545700</td>\n",
       "    </tr>\n",
       "  </tbody>\n",
       "</table>\n",
       "</div>"
      ],
      "text/plain": [
       "        cif  category     turnover  transaction_count  io_ratio  age  \\\n",
       "0  90000000         0    217673.05                125  0.304000   40   \n",
       "1  90000001         0        57.42                 20  0.250000   17   \n",
       "2  90000002         0   1465076.90                  1  0.000000   66   \n",
       "3  90000003         0    429840.54                 46  0.239130   43   \n",
       "4  90000004         2  93356190.65                 63  0.365079    0   \n",
       "\n",
       "   nationality  is_pep  inactive_days_average  inactive_days_max  \\\n",
       "0          123       0                   1.66                 88   \n",
       "1           90       0                   7.32                 88   \n",
       "2          123       0                  24.08                 25   \n",
       "3           90       0                   3.88                 86   \n",
       "4          186       0                   2.77                100   \n",
       "\n",
       "   n_of_accounts  distinct_counterparties  channel_risk  atm_withdrawal  \\\n",
       "0              1                        3      0.254742         1937.15   \n",
       "1              4                        6      0.393174            4.96   \n",
       "2              2                        1      0.422991            0.00   \n",
       "3              2                       17      0.296019        43123.33   \n",
       "4              1                        1      0.067511      1814340.25   \n",
       "\n",
       "     atm_deposit  \n",
       "0    2161.790028  \n",
       "1       0.893866  \n",
       "2     229.333494  \n",
       "3    3121.939606  \n",
       "4  603026.545700  "
      ]
     },
     "execution_count": 3,
     "metadata": {},
     "output_type": "execute_result"
    }
   ],
   "source": [
    "df.head()"
   ]
  },
  {
   "cell_type": "code",
   "execution_count": 4,
   "metadata": {},
   "outputs": [],
   "source": [
    "red_flag_countries = [33, 82, 113, 138, 187]"
   ]
  },
  {
   "cell_type": "code",
   "execution_count": 5,
   "metadata": {},
   "outputs": [
    {
     "data": {
      "text/plain": [
       "251750"
      ]
     },
     "execution_count": 5,
     "metadata": {},
     "output_type": "execute_result"
    }
   ],
   "source": [
    "df_cpi = df[df.nationality.isin(red_flag_countries)]\n",
    "#df_new[df_new['l_ext'].isin([31, 22, 30, 25, 64])]\n",
    "len(df_cpi)"
   ]
  },
  {
   "cell_type": "code",
   "execution_count": 6,
   "metadata": {},
   "outputs": [
    {
     "data": {
      "text/html": [
       "<div>\n",
       "<style scoped>\n",
       "    .dataframe tbody tr th:only-of-type {\n",
       "        vertical-align: middle;\n",
       "    }\n",
       "\n",
       "    .dataframe tbody tr th {\n",
       "        vertical-align: top;\n",
       "    }\n",
       "\n",
       "    .dataframe thead th {\n",
       "        text-align: right;\n",
       "    }\n",
       "</style>\n",
       "<table border=\"1\" class=\"dataframe\">\n",
       "  <thead>\n",
       "    <tr style=\"text-align: right;\">\n",
       "      <th></th>\n",
       "      <th>cif</th>\n",
       "      <th>category</th>\n",
       "      <th>turnover</th>\n",
       "      <th>transaction_count</th>\n",
       "      <th>io_ratio</th>\n",
       "      <th>age</th>\n",
       "      <th>nationality</th>\n",
       "      <th>is_pep</th>\n",
       "      <th>inactive_days_average</th>\n",
       "      <th>inactive_days_max</th>\n",
       "      <th>n_of_accounts</th>\n",
       "      <th>distinct_counterparties</th>\n",
       "      <th>channel_risk</th>\n",
       "      <th>atm_withdrawal</th>\n",
       "      <th>atm_deposit</th>\n",
       "    </tr>\n",
       "  </thead>\n",
       "  <tbody>\n",
       "    <tr>\n",
       "      <td>5</td>\n",
       "      <td>90000005</td>\n",
       "      <td>1</td>\n",
       "      <td>2184990.99</td>\n",
       "      <td>3</td>\n",
       "      <td>0.333333</td>\n",
       "      <td>0</td>\n",
       "      <td>82</td>\n",
       "      <td>0</td>\n",
       "      <td>51.96</td>\n",
       "      <td>52</td>\n",
       "      <td>2</td>\n",
       "      <td>1</td>\n",
       "      <td>0.311206</td>\n",
       "      <td>0.87</td>\n",
       "      <td>2670.491478</td>\n",
       "    </tr>\n",
       "    <tr>\n",
       "      <td>28</td>\n",
       "      <td>90000028</td>\n",
       "      <td>0</td>\n",
       "      <td>767598.70</td>\n",
       "      <td>2</td>\n",
       "      <td>0.000000</td>\n",
       "      <td>22</td>\n",
       "      <td>82</td>\n",
       "      <td>0</td>\n",
       "      <td>74.90</td>\n",
       "      <td>150</td>\n",
       "      <td>2</td>\n",
       "      <td>1</td>\n",
       "      <td>0.218999</td>\n",
       "      <td>0.00</td>\n",
       "      <td>1456.015838</td>\n",
       "    </tr>\n",
       "    <tr>\n",
       "      <td>29</td>\n",
       "      <td>90000029</td>\n",
       "      <td>1</td>\n",
       "      <td>138355.99</td>\n",
       "      <td>172</td>\n",
       "      <td>0.412791</td>\n",
       "      <td>0</td>\n",
       "      <td>33</td>\n",
       "      <td>0</td>\n",
       "      <td>1.02</td>\n",
       "      <td>100</td>\n",
       "      <td>4</td>\n",
       "      <td>96</td>\n",
       "      <td>0.111237</td>\n",
       "      <td>3229.40</td>\n",
       "      <td>149.532631</td>\n",
       "    </tr>\n",
       "    <tr>\n",
       "      <td>31</td>\n",
       "      <td>90000031</td>\n",
       "      <td>0</td>\n",
       "      <td>115204.98</td>\n",
       "      <td>2</td>\n",
       "      <td>0.500000</td>\n",
       "      <td>74</td>\n",
       "      <td>82</td>\n",
       "      <td>0</td>\n",
       "      <td>37.31</td>\n",
       "      <td>75</td>\n",
       "      <td>3</td>\n",
       "      <td>1</td>\n",
       "      <td>0.225440</td>\n",
       "      <td>15799.97</td>\n",
       "      <td>330.183237</td>\n",
       "    </tr>\n",
       "    <tr>\n",
       "      <td>34</td>\n",
       "      <td>90000034</td>\n",
       "      <td>0</td>\n",
       "      <td>150493.93</td>\n",
       "      <td>29</td>\n",
       "      <td>0.275862</td>\n",
       "      <td>33</td>\n",
       "      <td>82</td>\n",
       "      <td>0</td>\n",
       "      <td>4.17</td>\n",
       "      <td>76</td>\n",
       "      <td>2</td>\n",
       "      <td>7</td>\n",
       "      <td>0.070634</td>\n",
       "      <td>633.93</td>\n",
       "      <td>953.223518</td>\n",
       "    </tr>\n",
       "  </tbody>\n",
       "</table>\n",
       "</div>"
      ],
      "text/plain": [
       "         cif  category    turnover  transaction_count  io_ratio  age  \\\n",
       "5   90000005         1  2184990.99                  3  0.333333    0   \n",
       "28  90000028         0   767598.70                  2  0.000000   22   \n",
       "29  90000029         1   138355.99                172  0.412791    0   \n",
       "31  90000031         0   115204.98                  2  0.500000   74   \n",
       "34  90000034         0   150493.93                 29  0.275862   33   \n",
       "\n",
       "    nationality  is_pep  inactive_days_average  inactive_days_max  \\\n",
       "5            82       0                  51.96                 52   \n",
       "28           82       0                  74.90                150   \n",
       "29           33       0                   1.02                100   \n",
       "31           82       0                  37.31                 75   \n",
       "34           82       0                   4.17                 76   \n",
       "\n",
       "    n_of_accounts  distinct_counterparties  channel_risk  atm_withdrawal  \\\n",
       "5               2                        1      0.311206            0.87   \n",
       "28              2                        1      0.218999            0.00   \n",
       "29              4                       96      0.111237         3229.40   \n",
       "31              3                        1      0.225440        15799.97   \n",
       "34              2                        7      0.070634          633.93   \n",
       "\n",
       "    atm_deposit  \n",
       "5   2670.491478  \n",
       "28  1456.015838  \n",
       "29   149.532631  \n",
       "31   330.183237  \n",
       "34   953.223518  "
      ]
     },
     "execution_count": 6,
     "metadata": {},
     "output_type": "execute_result"
    }
   ],
   "source": [
    "df_cpi.head()"
   ]
  },
  {
   "cell_type": "code",
   "execution_count": 29,
   "metadata": {},
   "outputs": [
    {
     "name": "stdout",
     "output_type": "stream",
     "text": [
      "top 5% turnover: > than  36818118.96\n",
      "top 5% transaction_count: > than  140\n",
      "top 5% age: > than  75\n",
      "top 5% inactive_days_average: > than  149.02\n"
     ]
    }
   ],
   "source": [
    "# top 5% of values from below factors in risk countries:\n",
    "def calculate_top5(df):\n",
    "    for item in ['turnover', \"transaction_count\", \"age\", \"inactive_days_average\"]:\n",
    "        #print(item)\n",
    "        if item == \"age\":\n",
    "            if len(df[df.nationality == 90]) > 0:\n",
    "                trnover_list = np.array(df[df.nationality == 90].age.values.tolist()) # Japan is # 90\n",
    "            else: trnover_list = np.array(df[item].values.tolist())\n",
    "        else:\n",
    "            trnover_list = np.array(df[item].values.tolist())\n",
    "            \n",
    "        trnover_list = trnover_list[trnover_list > 0] \n",
    "        #print(trnover_list[1:10])\n",
    "        trnover_list = np.sort(trnover_list)\n",
    "        #print(trnover_list[1:10])\n",
    "        num5percent = int(len(trnover_list) - len(trnover_list)/100*5)\n",
    "        print(\"top 5% \"+ item +\": > than \", trnover_list[num5percent])\n",
    "        \n",
    "calculate_top5(df_cpi)"
   ]
  },
  {
   "cell_type": "code",
   "execution_count": 8,
   "metadata": {},
   "outputs": [
    {
     "data": {
      "text/html": [
       "<div>\n",
       "<style scoped>\n",
       "    .dataframe tbody tr th:only-of-type {\n",
       "        vertical-align: middle;\n",
       "    }\n",
       "\n",
       "    .dataframe tbody tr th {\n",
       "        vertical-align: top;\n",
       "    }\n",
       "\n",
       "    .dataframe thead th {\n",
       "        text-align: right;\n",
       "    }\n",
       "</style>\n",
       "<table border=\"1\" class=\"dataframe\">\n",
       "  <thead>\n",
       "    <tr style=\"text-align: right;\">\n",
       "      <th></th>\n",
       "      <th>cif</th>\n",
       "      <th>category</th>\n",
       "      <th>turnover</th>\n",
       "      <th>transaction_count</th>\n",
       "      <th>io_ratio</th>\n",
       "      <th>age</th>\n",
       "      <th>nationality</th>\n",
       "      <th>is_pep</th>\n",
       "      <th>inactive_days_average</th>\n",
       "      <th>inactive_days_max</th>\n",
       "      <th>n_of_accounts</th>\n",
       "      <th>distinct_counterparties</th>\n",
       "      <th>channel_risk</th>\n",
       "      <th>atm_withdrawal</th>\n",
       "      <th>atm_deposit</th>\n",
       "      <th>Red_Flags</th>\n",
       "    </tr>\n",
       "  </thead>\n",
       "  <tbody>\n",
       "    <tr>\n",
       "      <td>0</td>\n",
       "      <td>90000000</td>\n",
       "      <td>0</td>\n",
       "      <td>217673.05</td>\n",
       "      <td>125</td>\n",
       "      <td>0.304000</td>\n",
       "      <td>40</td>\n",
       "      <td>123</td>\n",
       "      <td>0</td>\n",
       "      <td>1.66</td>\n",
       "      <td>88</td>\n",
       "      <td>1</td>\n",
       "      <td>3</td>\n",
       "      <td>0.254742</td>\n",
       "      <td>1937.15</td>\n",
       "      <td>2161.790028</td>\n",
       "      <td>0</td>\n",
       "    </tr>\n",
       "    <tr>\n",
       "      <td>1</td>\n",
       "      <td>90000001</td>\n",
       "      <td>0</td>\n",
       "      <td>57.42</td>\n",
       "      <td>20</td>\n",
       "      <td>0.250000</td>\n",
       "      <td>17</td>\n",
       "      <td>90</td>\n",
       "      <td>0</td>\n",
       "      <td>7.32</td>\n",
       "      <td>88</td>\n",
       "      <td>4</td>\n",
       "      <td>6</td>\n",
       "      <td>0.393174</td>\n",
       "      <td>4.96</td>\n",
       "      <td>0.893866</td>\n",
       "      <td>0</td>\n",
       "    </tr>\n",
       "    <tr>\n",
       "      <td>2</td>\n",
       "      <td>90000002</td>\n",
       "      <td>0</td>\n",
       "      <td>1465076.90</td>\n",
       "      <td>1</td>\n",
       "      <td>0.000000</td>\n",
       "      <td>66</td>\n",
       "      <td>123</td>\n",
       "      <td>0</td>\n",
       "      <td>24.08</td>\n",
       "      <td>25</td>\n",
       "      <td>2</td>\n",
       "      <td>1</td>\n",
       "      <td>0.422991</td>\n",
       "      <td>0.00</td>\n",
       "      <td>229.333494</td>\n",
       "      <td>0</td>\n",
       "    </tr>\n",
       "    <tr>\n",
       "      <td>3</td>\n",
       "      <td>90000003</td>\n",
       "      <td>0</td>\n",
       "      <td>429840.54</td>\n",
       "      <td>46</td>\n",
       "      <td>0.239130</td>\n",
       "      <td>43</td>\n",
       "      <td>90</td>\n",
       "      <td>0</td>\n",
       "      <td>3.88</td>\n",
       "      <td>86</td>\n",
       "      <td>2</td>\n",
       "      <td>17</td>\n",
       "      <td>0.296019</td>\n",
       "      <td>43123.33</td>\n",
       "      <td>3121.939606</td>\n",
       "      <td>0</td>\n",
       "    </tr>\n",
       "    <tr>\n",
       "      <td>4</td>\n",
       "      <td>90000004</td>\n",
       "      <td>2</td>\n",
       "      <td>93356190.65</td>\n",
       "      <td>63</td>\n",
       "      <td>0.365079</td>\n",
       "      <td>0</td>\n",
       "      <td>186</td>\n",
       "      <td>0</td>\n",
       "      <td>2.77</td>\n",
       "      <td>100</td>\n",
       "      <td>1</td>\n",
       "      <td>1</td>\n",
       "      <td>0.067511</td>\n",
       "      <td>1814340.25</td>\n",
       "      <td>603026.545700</td>\n",
       "      <td>0</td>\n",
       "    </tr>\n",
       "  </tbody>\n",
       "</table>\n",
       "</div>"
      ],
      "text/plain": [
       "        cif  category     turnover  transaction_count  io_ratio  age  \\\n",
       "0  90000000         0    217673.05                125  0.304000   40   \n",
       "1  90000001         0        57.42                 20  0.250000   17   \n",
       "2  90000002         0   1465076.90                  1  0.000000   66   \n",
       "3  90000003         0    429840.54                 46  0.239130   43   \n",
       "4  90000004         2  93356190.65                 63  0.365079    0   \n",
       "\n",
       "   nationality  is_pep  inactive_days_average  inactive_days_max  \\\n",
       "0          123       0                   1.66                 88   \n",
       "1           90       0                   7.32                 88   \n",
       "2          123       0                  24.08                 25   \n",
       "3           90       0                   3.88                 86   \n",
       "4          186       0                   2.77                100   \n",
       "\n",
       "   n_of_accounts  distinct_counterparties  channel_risk  atm_withdrawal  \\\n",
       "0              1                        3      0.254742         1937.15   \n",
       "1              4                        6      0.393174            4.96   \n",
       "2              2                        1      0.422991            0.00   \n",
       "3              2                       17      0.296019        43123.33   \n",
       "4              1                        1      0.067511      1814340.25   \n",
       "\n",
       "     atm_deposit  Red_Flags  \n",
       "0    2161.790028          0  \n",
       "1       0.893866          0  \n",
       "2     229.333494          0  \n",
       "3    3121.939606          0  \n",
       "4  603026.545700          0  "
      ]
     },
     "execution_count": 8,
     "metadata": {},
     "output_type": "execute_result"
    }
   ],
   "source": [
    "df['Red_Flags'] = [0] * len(df)\n",
    "df.head()"
   ]
  },
  {
   "cell_type": "code",
   "execution_count": 80,
   "metadata": {},
   "outputs": [
    {
     "name": "stdout",
     "output_type": "stream",
     "text": [
      "red flags: 6381 matches: 58\n"
     ]
    }
   ],
   "source": [
    "# implementing features: how good we predict with all the features\n",
    "\n",
    "#is_pep = 1\n",
    "\n",
    "max_turnover = 36818118.96\n",
    "max_age = 75\n",
    "max_inactive_days_average = 149.02\n",
    "max_transaction_count = 140\n",
    "\n",
    "red_flag_list = df[(df.is_pep == 1) & (df.turnover > max_turnover)].cif.values.tolist()\n",
    "red_flag_list += df[(df.is_pep == 1) & (df.age > max_age)].cif.values.tolist()\n",
    "red_flag_list += df[(df.is_pep == 1) & (df.inactive_days_average > max_inactive_days_average)].cif.values.tolist()\n",
    "red_flag_list += df[(df.is_pep == 1) & (df.transaction_count > max_transaction_count)].cif.values.tolist()\n",
    "red_flag_list += df[(df.is_pep == 1) & (df.io_ratio < 0.5)].cif.values.tolist()\n",
    "\n",
    "df.cif.isin(red_flag_list)\n",
    "\n",
    "\n",
    "matches = 0\n",
    "for cif_num in red_flag_list:\n",
    "    if np.isin(cif_num, df_result): matches += 1\n",
    "        \n",
    "print(\"red flags: \" + str(len(red_flag_list)), \"matches: \" + str(matches))"
   ]
  },
  {
   "cell_type": "code",
   "execution_count": 81,
   "metadata": {},
   "outputs": [
    {
     "name": "stdout",
     "output_type": "stream",
     "text": [
      "red flags: 9426 matches: 111\n"
     ]
    }
   ],
   "source": [
    "# implementing features: how good we predict with all the features\n",
    "\n",
    "# df.age > max_age\n",
    "\n",
    "max_turnover = 36818118.96\n",
    "max_age = 75\n",
    "max_inactive_days_average = 149.02\n",
    "max_transaction_count = 140\n",
    "\n",
    "red_flag_list += df[(df.age > max_age) & (df.inactive_days_average > max_inactive_days_average)].cif.values.tolist()\n",
    "red_flag_list += df[(df.age > max_age) & (df.transaction_count > max_transaction_count)].cif.values.tolist()\n",
    "\n",
    "df.cif.isin(red_flag_list)\n",
    "\n",
    "matches = 0\n",
    "for cif_num in red_flag_list:\n",
    "    if np.isin(cif_num, df_result): matches += 1\n",
    "        \n",
    "print(\"red flags: \" + str(len(red_flag_list)), \"matches: \" + str(matches))"
   ]
  },
  {
   "cell_type": "code",
   "execution_count": 67,
   "metadata": {},
   "outputs": [],
   "source": [
    "red_flag_list_to_save = red_flag_list"
   ]
  },
  {
   "cell_type": "code",
   "execution_count": 73,
   "metadata": {},
   "outputs": [],
   "source": [
    "red_flag_list = red_flag_list_to_save"
   ]
  },
  {
   "cell_type": "code",
   "execution_count": 82,
   "metadata": {},
   "outputs": [
    {
     "data": {
      "text/plain": [
       "9426"
      ]
     },
     "execution_count": 82,
     "metadata": {},
     "output_type": "execute_result"
    }
   ],
   "source": [
    "len(red_flag_list)"
   ]
  },
  {
   "cell_type": "code",
   "execution_count": 84,
   "metadata": {},
   "outputs": [
    {
     "data": {
      "text/plain": [
       "[90301218,\n",
       " 90886082,\n",
       " 90797833,\n",
       " 90421452,\n",
       " 90640848,\n",
       " 90094705,\n",
       " 90460051,\n",
       " 90498006,\n",
       " 90060984,\n",
       " 90786297,\n",
       " 90958139]"
      ]
     },
     "execution_count": 84,
     "metadata": {},
     "output_type": "execute_result"
    }
   ],
   "source": [
    "list(set(red_flag_list) & set(FLAG_D))"
   ]
  },
  {
   "cell_type": "markdown",
   "metadata": {},
   "source": [
    "# Outliers in the dataset: example includes category Individuals"
   ]
  },
  {
   "cell_type": "code",
   "execution_count": 87,
   "metadata": {},
   "outputs": [
    {
     "data": {
      "image/png": "[encoded data removed]",
      "text/plain": [
       "<Figure size 432x288 with 1 Axes>"
      ]
     },
     "metadata": {
      "needs_background": "light"
     },
     "output_type": "display_data"
    }
   ],
   "source": [
    "# Relation turnover and transaction_count; scatter plot\n",
    "\n",
    "y_label = \"transaction_count\"\n",
    "x_label = \"turnover\"\n",
    "cat = 0\n",
    "\n",
    "fig = plt.figure()\n",
    "ax1 = fig.add_subplot(111)\n",
    "\n",
    "import matplotlib.pyplot as plt\n",
    "#plt.scatter(df['turnover'], df['transaction_count'])\n",
    "\n",
    "ax1.scatter(df[df.category == cat].turnover, df[df.category == cat].transaction_count)\n",
    "\n",
    "ax1.set_xlabel(x_label)\n",
    "ax1.set_ylabel(y_label)\n",
    "ax1.set_title(x_label + \" vs \" + y_label)\n",
    "plt.show()"
   ]
  },
  {
   "cell_type": "code",
   "execution_count": 123,
   "metadata": {},
   "outputs": [],
   "source": [
    "ouliers_list = df[(df.category == 0) & (df.turnover > 0.07*1e11)].cif.values.tolist()\n",
    "ouliers_list += df[(df.category == 0) & (df.transaction_count >900)].cif.values.tolist()"
   ]
  },
  {
   "cell_type": "code",
   "execution_count": 127,
   "metadata": {},
   "outputs": [
    {
     "name": "stdout",
     "output_type": "stream",
     "text": [
      "Number of red flags: 7 False positives: 14.29%\n"
     ]
    }
   ],
   "source": [
    "check_matches(ouliers_list)"
   ]
  },
  {
   "cell_type": "code",
   "execution_count": 126,
   "metadata": {},
   "outputs": [],
   "source": [
    "def check_matches(rfList):\n",
    "    matches = 0\n",
    "    for element in rfList:\n",
    "        if np.isin(element, df_result): matches += 1\n",
    "    false_positives = (len(rfList)-matches)/len(rfList)*100\n",
    "    print(\"Number of red flags: \" + str(len(rfList)) + \" False positives: \" + str(\"{0:.2f}\".format(false_positives)) + \"%\")"
   ]
  },
  {
   "cell_type": "code",
   "execution_count": 13,
   "metadata": {},
   "outputs": [],
   "source": [
    "### Caushy distribution with parameters\n",
    "def Caushy (x, g, x0, A):\n",
    "    return float((A/m.pi)*g/((x-x0)**2+g*g))"
   ]
  },
  {
   "cell_type": "code",
   "execution_count": 18,
   "metadata": {},
   "outputs": [],
   "source": [
    "\n",
    "cif = '\\ufeffcif'\n",
    "cif = 'cif'\n",
    "susplist = df_result\n",
    "\n",
    "#data_all_X = []\n",
    "#data_all_Y = []\n",
    "#data_susp_X = []\n",
    "#data_susp_Y = []\n",
    "\n",
    "\n",
    "a1_all_X = []\n",
    "a1_all_Y = []\n",
    "a1_susp_X = []\n",
    "a1_susp_Y = []\n",
    "a1_non_X = []\n",
    "a1_non_Y = []\n",
    "\n",
    "\n",
    "\n",
    "\n",
    "with open('downloads/large.csv', 'r') as data:\n",
    "    reader = csv.DictReader(data, delimiter = \",\")     \n",
    "    for line in reader:\n",
    "        if int(line['category']) == 0 and int(line['age']) > 0 and int(line['age']) >0:\n",
    "           \n",
    "            \n",
    "            a1_all_X.append(float(line['io_ratio'])) # \n",
    "            a1_all_Y.append(float(line['transaction_count']))\n",
    "            if int(line[cif]) in susplist:\n",
    "                a1_susp_X.append(float(line['io_ratio']))\n",
    "                a1_susp_Y.append(float(line['transaction_count']))\n",
    "            else:\n",
    "                a1_non_X.append(float(line['io_ratio']))\n",
    "                a1_non_Y.append(float(line['transaction_count']))\n",
    "            "
   ]
  },
  {
   "cell_type": "code",
   "execution_count": 20,
   "metadata": {},
   "outputs": [
    {
     "data": {
      "image/png": "[encoded data removed]",
      "text/plain": [
       "<Figure size 432x288 with 1 Axes>"
      ]
     },
     "metadata": {
      "needs_background": "light"
     },
     "output_type": "display_data"
    }
   ],
   "source": [
    "#### OBSERVE how different the distributions are!!!!\n",
    "        \n",
    "plt.plot(a1_non_X, a1_non_Y, 'bs')\n",
    "plt.plot (a1_susp_X, a1_susp_Y, 'k^')\n",
    "plt.show()        "
   ]
  },
  {
   "cell_type": "code",
   "execution_count": 22,
   "metadata": {},
   "outputs": [
    {
     "data": {
      "image/png": "[encoded data removed]",
      "text/plain": [
       "<Figure size 432x288 with 1 Axes>"
      ]
     },
     "metadata": {
      "needs_background": "light"
     },
     "output_type": "display_data"
    }
   ],
   "source": [
    "### HERE the choice of parameters was performed\n",
    "### the tails of both distributions are too heavy to be gaussian\n",
    "### so the Caushy distribution was chosen\n",
    "### now the parameters are chosen manually, that can easily be improved \n",
    "### (optimisation problem solved by gradient descent technique ex.g)\n",
    "\n",
    "\n",
    "\n",
    "gn = 0.07\n",
    "x0n = 0.3\n",
    "An = 200\n",
    "\n",
    "gs = 0.045\n",
    "x0s = 0.41\n",
    "As = 250\n",
    "\n",
    "x = np.arange(0., 1., 0.01)\n",
    "ys = [Caushy(xx, gs, x0s, As) for xx in x]\n",
    "yn = [Caushy(xx, gn, x0n, An) for xx in x]\n",
    "\n",
    "#### the curves describes nicely the shape of the data\n",
    "plt.plot(a1_non_X, a1_non_Y, 'bs')\n",
    "plt.plot (a1_susp_X, a1_susp_Y, 'ks')\n",
    "plt.plot(x, yn, 'g-')\n",
    "plt.plot(x, ys, 'r-')\n",
    "#plt.plot(flag_x, flag_y, 'r^')\n",
    "plt.show()"
   ]
  },
  {
   "cell_type": "code",
   "execution_count": 23,
   "metadata": {},
   "outputs": [
    {
     "data": {
      "image/png": "[encoded data removed]",
      "text/plain": [
       "<Figure size 432x288 with 1 Axes>"
      ]
     },
     "metadata": {
      "needs_background": "light"
     },
     "output_type": "display_data"
    }
   ],
   "source": [
    "\n",
    "\n",
    "### final parameters for not suspicious people\n",
    "pn = (gn,x0n,An)\n",
    "\n",
    "\n",
    "\n",
    "def outlayers_D (io, trans, param, eps = 50):\n",
    "### this function detect people acting suspicious comparing the following parameters:\n",
    "### IO_ratio and transaction number\n",
    "### not suspicious people fit perfectly inside the bell of Caushy distribution\n",
    "### suspicious people lie in the distribution with different parameters\n",
    "### returns True if the person doesn't fit the first bell\n",
    "    \n",
    "### the parameters for the Caushy distribution could be found more sophisticatly\n",
    "\n",
    "### the parameret eps is an error margin, can be determined nices\n",
    "### but even taken to be 0 gives only 6(!) not suspicious people out of the line\n",
    "    F0 = Caushy(io, param[0], param[1], param[2])\n",
    "    if F0 + eps < trans:\n",
    "        return True\n",
    "    else:\n",
    "        return False\n",
    "\n",
    "\n",
    "\n",
    "\n",
    "### that gonna be the list of rised flags\n",
    "FLAG_D = []\n",
    "\n",
    "### to be shown on a plot\n",
    "flag_x = []\n",
    "flag_y = []\n",
    "\n",
    "\n",
    "with open('downloads/large.csv', 'r') as data:\n",
    "    \n",
    "    reader = csv.DictReader(data, delimiter = \",\")     \n",
    "    for line in reader:\n",
    "        if int(line['category']) == 0 and int(line['age']) > 0:\n",
    "            if outlayers_D(float(line['io_ratio']), float(line['transaction_count']), pn):\n",
    "                flag_x.append(float(line['io_ratio']))\n",
    "                flag_y.append(float(line['transaction_count']))\n",
    "                FLAG_D.append(int(line[cif]))\n",
    "\n",
    "\n",
    "plt.plot(a1_non_X, a1_non_Y, 'bs')\n",
    "plt.plot (a1_susp_X, a1_susp_Y, 'ks')\n",
    "plt.plot(x, yn, 'g-')\n",
    "plt.plot(flag_x, flag_y, 'r^')\n",
    "plt.show() "
   ]
  },
  {
   "cell_type": "code",
   "execution_count": 25,
   "metadata": {},
   "outputs": [
    {
     "data": {
      "text/plain": [
       "478"
      ]
     },
     "execution_count": 25,
     "metadata": {},
     "output_type": "execute_result"
    }
   ],
   "source": [
    "len(FLAG_D)"
   ]
  },
  {
   "cell_type": "code",
   "execution_count": 28,
   "metadata": {},
   "outputs": [
    {
     "name": "stdout",
     "output_type": "stream",
     "text": [
      "for (df.is_pep == 1) 478 477\n"
     ]
    }
   ],
   "source": [
    "matches = 0\n",
    "for cif_num in FLAG_D:\n",
    "    if np.isin(cif_num, df_result): matches += 1\n",
    "        \n",
    "print(\"for (df.is_pep == 1)\", len(FLAG_D), matches)"
   ]
  },
  {
   "cell_type": "code",
   "execution_count": 128,
   "metadata": {},
   "outputs": [
    {
     "name": "stdout",
     "output_type": "stream",
     "text": [
      "Number of red flags: 478 False positives: 0.21%\n"
     ]
    }
   ],
   "source": [
    "check_matches(FLAG_D)"
   ]
  },
  {
   "cell_type": "code",
   "execution_count": null,
   "metadata": {},
   "outputs": [],
   "source": []
  }
 ],
 "metadata": {
  "kernelspec": {
   "display_name": "Python 3.7 sept-fastai",
   "language": "python",
   "name": "sept-fastai"
  },
  "language_info": {
   "codemirror_mode": {
    "name": "ipython",
    "version": 3
   },
   "file_extension": ".py",
   "mimetype": "text/x-python",
   "name": "python",
   "nbconvert_exporter": "python",
   "pygments_lexer": "ipython3",
   "version": "3.7.4"
  }
 },
 "nbformat": 4,
 "nbformat_minor": 2
}
